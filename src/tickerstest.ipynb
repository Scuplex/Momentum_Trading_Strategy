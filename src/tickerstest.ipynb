{
 "cells": [
  {
   "cell_type": "code",
   "execution_count": 2,
   "id": "ae82c328",
   "metadata": {},
   "outputs": [],
   "source": [
    "import pandas as pd\n",
    "import yfinance as yf\n",
    "\n"
   ]
  },
  {
   "cell_type": "code",
   "execution_count": 3,
   "id": "8c9f0645",
   "metadata": {},
   "outputs": [],
   "source": [
    "all_stock_data = pd.read_parquet(\"../data/all_stock_data.parquet\")"
   ]
  },
  {
   "cell_type": "code",
   "execution_count": 4,
   "id": "fb01e644",
   "metadata": {},
   "outputs": [
    {
     "data": {
      "text/plain": [
       "230350      1.0\n",
       "308612      1.0\n",
       "449937      1.0\n",
       "633765      1.0\n",
       "727942      1.0\n",
       "           ... \n",
       "28032393    1.0\n",
       "28187226    1.0\n",
       "28379632    1.0\n",
       "28596329    1.0\n",
       "28781450    1.0\n",
       "Name: Stock Splits, Length: 688, dtype: float64"
      ]
     },
     "execution_count": 4,
     "metadata": {},
     "output_type": "execute_result"
    }
   ],
   "source": [
    "all_stock_data[all_stock_data[\"Stock Splits\"] == 1][\"Stock Splits\"].sort_values(ascending=False)\n"
   ]
  },
  {
   "cell_type": "code",
   "execution_count": 5,
   "id": "94ffd63e",
   "metadata": {},
   "outputs": [
    {
     "data": {
      "text/plain": [
       "Timestamp('1976-04-12 00:00:00')"
      ]
     },
     "execution_count": 5,
     "metadata": {},
     "output_type": "execute_result"
    }
   ],
   "source": [
    "pd.Timestamp(all_stock_data.iloc[230350]['Date'])"
   ]
  },
  {
   "cell_type": "code",
   "execution_count": 6,
   "id": "a020c1c3",
   "metadata": {},
   "outputs": [
    {
     "data": {
      "text/plain": [
       "Timestamp('2024-11-04 00:00:00')"
      ]
     },
     "execution_count": 6,
     "metadata": {},
     "output_type": "execute_result"
    }
   ],
   "source": [
    "pd.Timestamp(1730678400000000000)"
   ]
  },
  {
   "cell_type": "code",
   "execution_count": 7,
   "id": "890af6b2",
   "metadata": {},
   "outputs": [
    {
     "data": {
      "text/plain": [
       "np.float64(0.006889458745718002)"
      ]
     },
     "execution_count": 7,
     "metadata": {},
     "output_type": "execute_result"
    }
   ],
   "source": [
    "all_stock_data.iloc[230351]['Close']"
   ]
  },
  {
   "cell_type": "code",
   "execution_count": null,
   "id": "53fa8034",
   "metadata": {},
   "outputs": [],
   "source": [
    "\n"
   ]
  },
  {
   "cell_type": "code",
   "execution_count": 8,
   "id": "fb86970b",
   "metadata": {},
   "outputs": [
    {
     "name": "stderr",
     "output_type": "stream",
     "text": [
      "\n",
      "1 Failed download:\n",
      "['GLT']: YFTzMissingError('possibly delisted; no timezone found')\n"
     ]
    }
   ],
   "source": [
    "data = yf.download('GLT', period='max', auto_adjust=True, progress=False)"
   ]
  },
  {
   "cell_type": "code",
   "execution_count": 9,
   "id": "adcdc156",
   "metadata": {},
   "outputs": [
    {
     "data": {
      "text/html": [
       "<div>\n",
       "<style scoped>\n",
       "    .dataframe tbody tr th:only-of-type {\n",
       "        vertical-align: middle;\n",
       "    }\n",
       "\n",
       "    .dataframe tbody tr th {\n",
       "        vertical-align: top;\n",
       "    }\n",
       "\n",
       "    .dataframe thead th {\n",
       "        text-align: right;\n",
       "    }\n",
       "</style>\n",
       "<table border=\"1\" class=\"dataframe\">\n",
       "  <thead>\n",
       "    <tr style=\"text-align: right;\">\n",
       "      <th></th>\n",
       "      <th>Date</th>\n",
       "      <th>Ticker</th>\n",
       "      <th>Open</th>\n",
       "      <th>High</th>\n",
       "      <th>Low</th>\n",
       "      <th>Close</th>\n",
       "      <th>Volume</th>\n",
       "      <th>Dividends</th>\n",
       "      <th>Stock Splits</th>\n",
       "    </tr>\n",
       "  </thead>\n",
       "  <tbody>\n",
       "  </tbody>\n",
       "</table>\n",
       "</div>"
      ],
      "text/plain": [
       "Empty DataFrame\n",
       "Columns: [Date, Ticker, Open, High, Low, Close, Volume, Dividends, Stock Splits]\n",
       "Index: []"
      ]
     },
     "execution_count": 9,
     "metadata": {},
     "output_type": "execute_result"
    }
   ],
   "source": [
    "all_stock_data[all_stock_data['Ticker'] == '']"
   ]
  },
  {
   "cell_type": "code",
   "execution_count": 10,
   "id": "e3861acb",
   "metadata": {},
   "outputs": [
    {
     "data": {
      "text/plain": [
       "510234       345427200000000000\n",
       "511022       345686400000000000\n",
       "511380       345772800000000000\n",
       "511741       345859200000000000\n",
       "512565       345945600000000000\n",
       "                   ...         \n",
       "34610705    1730160000000000000\n",
       "34616030    1730246400000000000\n",
       "34623655    1730332800000000000\n",
       "34638889    1730419200000000000\n",
       "34642555    1730678400000000000\n",
       "Name: Date, Length: 11066, dtype: object"
      ]
     },
     "execution_count": 10,
     "metadata": {},
     "output_type": "execute_result"
    }
   ],
   "source": [
    "all_stock_data[all_stock_data['Ticker'] == 'AAPL'][\"Date\"]"
   ]
  }
 ],
 "metadata": {
  "kernelspec": {
   "display_name": ".venv",
   "language": "python",
   "name": "python3"
  },
  "language_info": {
   "codemirror_mode": {
    "name": "ipython",
    "version": 3
   },
   "file_extension": ".py",
   "mimetype": "text/x-python",
   "name": "python",
   "nbconvert_exporter": "python",
   "pygments_lexer": "ipython3",
   "version": "3.13.5"
  }
 },
 "nbformat": 4,
 "nbformat_minor": 5
}

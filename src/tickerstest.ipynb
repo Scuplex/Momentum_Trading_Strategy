{
 "cells": [
  {
   "cell_type": "code",
   "execution_count": 2,
   "id": "ae82c328",
   "metadata": {},
   "outputs": [],
   "source": [
    "import pandas as pd\n",
    "all_stock_data = pd.read_parquet(\"../data/all_stock_data.parquet\")"
   ]
  },
  {
   "cell_type": "code",
   "execution_count": 4,
   "id": "b1239ebb",
   "metadata": {},
   "outputs": [
    {
     "name": "stderr",
     "output_type": "stream",
     "text": [
      "/home/yorikas/vscode-projects/Momentum_Trading_Strategy/.venv/lib/python3.13/site-packages/pandas/core/nanops.py:1016: RuntimeWarning: invalid value encountered in subtract\n",
      "  sqr = _ensure_numeric((avg - values) ** 2)\n"
     ]
    },
    {
     "data": {
      "text/html": [
       "<div>\n",
       "<style scoped>\n",
       "    .dataframe tbody tr th:only-of-type {\n",
       "        vertical-align: middle;\n",
       "    }\n",
       "\n",
       "    .dataframe tbody tr th {\n",
       "        vertical-align: top;\n",
       "    }\n",
       "\n",
       "    .dataframe thead th {\n",
       "        text-align: right;\n",
       "    }\n",
       "</style>\n",
       "<table border=\"1\" class=\"dataframe\">\n",
       "  <thead>\n",
       "    <tr style=\"text-align: right;\">\n",
       "      <th></th>\n",
       "      <th>Open</th>\n",
       "      <th>High</th>\n",
       "      <th>Low</th>\n",
       "      <th>Close</th>\n",
       "      <th>Volume</th>\n",
       "      <th>Dividends</th>\n",
       "      <th>Stock Splits</th>\n",
       "    </tr>\n",
       "  </thead>\n",
       "  <tbody>\n",
       "    <tr>\n",
       "      <th>count</th>\n",
       "      <td>3.464615e+07</td>\n",
       "      <td>3.464615e+07</td>\n",
       "      <td>3.464615e+07</td>\n",
       "      <td>3.464615e+07</td>\n",
       "      <td>3.464626e+07</td>\n",
       "      <td>3.464626e+07</td>\n",
       "      <td>34646258.0</td>\n",
       "    </tr>\n",
       "    <tr>\n",
       "      <th>mean</th>\n",
       "      <td>1.115049e+23</td>\n",
       "      <td>1.115049e+23</td>\n",
       "      <td>1.115049e+23</td>\n",
       "      <td>1.115049e+23</td>\n",
       "      <td>1.339230e+06</td>\n",
       "      <td>3.980156e-03</td>\n",
       "      <td>inf</td>\n",
       "    </tr>\n",
       "    <tr>\n",
       "      <th>std</th>\n",
       "      <td>3.954735e+25</td>\n",
       "      <td>3.954735e+25</td>\n",
       "      <td>3.954735e+25</td>\n",
       "      <td>3.954735e+25</td>\n",
       "      <td>1.567170e+07</td>\n",
       "      <td>1.603516e+00</td>\n",
       "      <td>NaN</td>\n",
       "    </tr>\n",
       "    <tr>\n",
       "      <th>min</th>\n",
       "      <td>-8.210044e+25</td>\n",
       "      <td>-8.210044e+25</td>\n",
       "      <td>-8.210044e+25</td>\n",
       "      <td>-8.210044e+25</td>\n",
       "      <td>0.000000e+00</td>\n",
       "      <td>0.000000e+00</td>\n",
       "      <td>0.0</td>\n",
       "    </tr>\n",
       "    <tr>\n",
       "      <th>25%</th>\n",
       "      <td>3.150000e+00</td>\n",
       "      <td>3.400000e+00</td>\n",
       "      <td>3.262533e+00</td>\n",
       "      <td>3.331568e+00</td>\n",
       "      <td>2.680000e+03</td>\n",
       "      <td>0.000000e+00</td>\n",
       "      <td>0.0</td>\n",
       "    </tr>\n",
       "    <tr>\n",
       "      <th>50%</th>\n",
       "      <td>1.088000e+01</td>\n",
       "      <td>1.112991e+01</td>\n",
       "      <td>1.082000e+01</td>\n",
       "      <td>1.098039e+01</td>\n",
       "      <td>5.380000e+04</td>\n",
       "      <td>0.000000e+00</td>\n",
       "      <td>0.0</td>\n",
       "    </tr>\n",
       "    <tr>\n",
       "      <th>75%</th>\n",
       "      <td>2.802786e+01</td>\n",
       "      <td>2.867335e+01</td>\n",
       "      <td>2.779270e+01</td>\n",
       "      <td>2.822554e+01</td>\n",
       "      <td>4.270000e+05</td>\n",
       "      <td>0.000000e+00</td>\n",
       "      <td>0.0</td>\n",
       "    </tr>\n",
       "    <tr>\n",
       "      <th>max</th>\n",
       "      <td>1.507290e+28</td>\n",
       "      <td>1.507290e+28</td>\n",
       "      <td>1.507290e+28</td>\n",
       "      <td>1.507290e+28</td>\n",
       "      <td>9.230856e+09</td>\n",
       "      <td>4.500000e+03</td>\n",
       "      <td>inf</td>\n",
       "    </tr>\n",
       "  </tbody>\n",
       "</table>\n",
       "</div>"
      ],
      "text/plain": [
       "               Open          High           Low         Close        Volume  \\\n",
       "count  3.464615e+07  3.464615e+07  3.464615e+07  3.464615e+07  3.464626e+07   \n",
       "mean   1.115049e+23  1.115049e+23  1.115049e+23  1.115049e+23  1.339230e+06   \n",
       "std    3.954735e+25  3.954735e+25  3.954735e+25  3.954735e+25  1.567170e+07   \n",
       "min   -8.210044e+25 -8.210044e+25 -8.210044e+25 -8.210044e+25  0.000000e+00   \n",
       "25%    3.150000e+00  3.400000e+00  3.262533e+00  3.331568e+00  2.680000e+03   \n",
       "50%    1.088000e+01  1.112991e+01  1.082000e+01  1.098039e+01  5.380000e+04   \n",
       "75%    2.802786e+01  2.867335e+01  2.779270e+01  2.822554e+01  4.270000e+05   \n",
       "max    1.507290e+28  1.507290e+28  1.507290e+28  1.507290e+28  9.230856e+09   \n",
       "\n",
       "          Dividends  Stock Splits  \n",
       "count  3.464626e+07    34646258.0  \n",
       "mean   3.980156e-03           inf  \n",
       "std    1.603516e+00           NaN  \n",
       "min    0.000000e+00           0.0  \n",
       "25%    0.000000e+00           0.0  \n",
       "50%    0.000000e+00           0.0  \n",
       "75%    0.000000e+00           0.0  \n",
       "max    4.500000e+03           inf  "
      ]
     },
     "execution_count": 4,
     "metadata": {},
     "output_type": "execute_result"
    }
   ],
   "source": [
    "all_stock_data.describe()"
   ]
  },
  {
   "cell_type": "code",
   "execution_count": null,
   "id": "fb01e644",
   "metadata": {},
   "outputs": [
    {
     "data": {
      "text/plain": [
       "7771        2.0\n",
       "18543       3.0\n",
       "18879       2.0\n",
       "23644       2.0\n",
       "23819       2.0\n",
       "           ... \n",
       "27980170    5.0\n",
       "28237848    5.0\n",
       "28248972    5.0\n",
       "28249281    4.0\n",
       "28346090    4.0\n",
       "Name: Stock Splits, Length: 2632, dtype: float64"
      ]
     },
     "execution_count": 7,
     "metadata": {},
     "output_type": "execute_result"
    }
   ],
   "source": [
    "all_stock_data[all_stock_data[\"Stock Splits\"] < 0.8][\"Stock Splits\"]\n"
   ]
  }
 ],
 "metadata": {
  "kernelspec": {
   "display_name": ".venv",
   "language": "python",
   "name": "python3"
  },
  "language_info": {
   "codemirror_mode": {
    "name": "ipython",
    "version": 3
   },
   "file_extension": ".py",
   "mimetype": "text/x-python",
   "name": "python",
   "nbconvert_exporter": "python",
   "pygments_lexer": "ipython3",
   "version": "3.13.5"
  }
 },
 "nbformat": 4,
 "nbformat_minor": 5
}
